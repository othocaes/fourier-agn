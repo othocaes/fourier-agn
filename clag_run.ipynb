{
 "cells": [
  {
   "cell_type": "code",
   "execution_count": 1,
   "metadata": {
    "collapsed": false
   },
   "outputs": [
    {
     "name": "stdout",
     "output_type": "stream",
     "text": [
      "Populating the interactive namespace from numpy and matplotlib\n"
     ]
    }
   ],
   "source": [
    "import sys\n",
    "import numpy as np\n",
    "sys.path.insert(1,\"/usr/local/science/clag/\")\n",
    "import clag\n",
    "%pylab inline\n",
    "dt=0.1\n",
    "\n"
   ]
  },
  {
   "cell_type": "code",
   "execution_count": 49,
   "metadata": {
    "collapsed": false
   },
   "outputs": [
    {
     "data": {
      "text/plain": [
       "<Container object of 3 artists>"
      ]
     },
     "execution_count": 49,
     "metadata": {},
     "output_type": "execute_result"
    },
    {
     "data": {
      "image/png": "[encoded data removed]",
      "text/plain": [
       "<matplotlib.figure.Figure at 0x7fe2c7b5be90>"
      ]
     },
     "metadata": {},
     "output_type": "display_data"
    }
   ],
   "source": [
    "dt=0.1\n",
    "t1,l1,l1e = np.loadtxt('lightcurves/1158Å.lc',skiprows=1).T\n",
    "errorbar(t1,l1,yerr=l1e,fmt='o')\n"
   ]
  },
  {
   "cell_type": "code",
   "execution_count": 52,
   "metadata": {
    "collapsed": false
   },
   "outputs": [
    {
     "data": {
      "text/plain": [
       "(array([ 0.005     ,  0.01861938,  0.04473305,  0.06933623,  0.10747115,\n",
       "         0.16658029,  0.25819945,  0.40020915,  0.62032418]),\n",
       " array([ 0.005     ,  0.00913432,  0.01668715,  0.03048514,  0.0556922 ,\n",
       "         0.10174204,  0.18586882,  0.33955695,  0.62032418]))"
      ]
     },
     "execution_count": 52,
     "metadata": {},
     "output_type": "execute_result"
    }
   ],
   "source": [
    "fqL_comp = np.array([0.0049999999, 0.018619375, 0.044733049, 0.069336227, 0.10747115, 0.16658029, \n",
    "                0.25819945, 0.40020915, 0.62032418])\n",
    "f1 = 1/175.\n",
    "f2 = 0.5/dt\n",
    "fqL = np.logspace(np.log10(0.0049999999),np.log10(0.62032418),9)\n",
    "nfq = len(fqL) - 1\n",
    "fqd = 10**(np.log10( (fqL[:-1]*fqL[1:]) )/2.)\n",
    "fqL_comp,fqL"
   ]
  },
  {
   "cell_type": "code",
   "execution_count": 53,
   "metadata": {
    "collapsed": false
   },
   "outputs": [
    {
     "name": "stdout",
     "output_type": "stream",
     "text": [
      "   1 4.342e-01 7.185e+01 inf -- -5.566e+02 -- 1 1 1 1 1 1 1 1\n",
      "   2 7.678e-01 7.159e+01 8.229e+01 -- -4.743e+02 -- 0.892884 0.567082 0.621861 0.584768 0.568247 0.566791 0.565861 0.565797\n",
      "   3 3.310e+00 7.118e+01 7.982e+01 -- -3.945e+02 -- 0.843736 0.174437 0.33062 0.197899 0.141909 0.135208 0.132001 0.131356\n",
      "   4 1.589e+00 7.054e+01 7.609e+01 -- -3.184e+02 -- 0.77937 -0.0873774 0.197955 -0.122663 -0.270114 -0.292617 -0.301204 -0.303378\n",
      "   5 5.880e-01 6.947e+01 7.164e+01 -- -2.468e+02 -- 0.733533 -0.195146 0.207496 -0.317627 -0.648339 -0.712483 -0.73341 -0.738142\n",
      "   6 3.685e-01 6.733e+01 6.557e+01 -- -1.812e+02 -- 0.72869 -0.287616 0.235962 -0.380797 -0.950045 -1.11118 -1.16248 -1.17217\n",
      "   7 3.360e-01 6.281e+01 5.634e+01 -- -1.248e+02 -- 0.734242 -0.391207 0.261934 -0.403085 -1.11909 -1.45604 -1.58125 -1.60409\n",
      "   8 3.292e-01 5.377e+01 4.358e+01 -- -8.126e+01 -- 0.752973 -0.522649 0.291579 -0.418537 -1.16671 -1.69479 -1.97145 -2.03079\n",
      "   9 3.273e-01 3.879e+01 2.815e+01 -- -5.312e+01 -- 0.77814 -0.694723 0.325224 -0.425892 -1.17192 -1.80058 -2.29175 -2.44512\n",
      "  10 3.456e-01 2.175e+01 1.392e+01 -- -3.920e+01 -- 0.804586 -0.922103 0.358457 -0.427293 -1.16965 -1.82918 -2.47905 -2.83403\n",
      "  11 4.190e-01 9.438e+00 5.481e+00 -- -3.372e+01 -- 0.827764 -1.24083 0.387787 -0.42567 -1.16488 -1.83842 -2.52183 -3.18372\n",
      "  12 7.848e-01 3.316e+00 1.852e+00 -- -3.187e+01 -- 0.843945 -1.76071 0.411154 -0.424222 -1.15953 -1.84242 -2.51196 -3.48391\n",
      "  13 1.006e+01 1.008e+00 4.908e-01 -- -3.138e+01 -- 0.853955 -3.14247 0.42762 -0.423518 -1.1555 -1.84461 -2.50375 -3.71944\n",
      "  14 3.815e-02 3.055e-01 9.183e-02 -- -3.128e+01 -- 0.858949 -6.14247 0.435682 -0.422798 -1.15307 -1.84568 -2.49976 -3.87341\n",
      "  15 6.631e-03 7.353e-02 1.704e-02 -- -3.127e+01 -- 0.842243 -6.14247 0.419062 -0.422667 -1.15214 -1.84605 -2.49806 -3.94857\n",
      "  16 1.818e-03 1.831e-02 1.234e-03 -- -3.127e+01 -- 0.842328 -6.14247 0.41958 -0.424065 -1.15151 -1.84614 -2.49728 -3.97476\n",
      "  17 4.537e-04 4.449e-03 8.484e-05 -- -3.127e+01 -- 0.842289 -6.14247 0.419436 -0.42401 -1.1513 -1.84618 -2.49705 -3.98198\n",
      "********************\n",
      "0.842289 -6.14247 0.419436 -0.42401 -1.1513 -1.84618 -2.49705 -3.98198\n",
      "0.303873 10 0.237094 0.215835 0.160912 0.126739 0.119126 0.635007\n",
      "-0.000157303 -1.75664e-06 0.000317222 -0.000308948 0.00218657 -0.000750599 0.00307903 -0.00444913\n",
      "********************\n"
     ]
    }
   ],
   "source": [
    "P1 = clag.clag('psd10r', [t1], [l1], [l1e], dt, fqL)\n",
    "p1 = np.ones(nfq)\n",
    "p1, p1e = clag.optimize(P1, p1)"
   ]
  },
  {
   "cell_type": "code",
   "execution_count": 48,
   "metadata": {
    "collapsed": false
   },
   "outputs": [
    {
     "name": "stdout",
     "output_type": "stream",
     "text": [
      "\t### errors for param 0 ###\n",
      "+++ -3.127e+01 -3.468e+01 8.423e-01 1.842e+00 6.83 +++\n",
      "+++ -3.127e+01 -3.236e+01 8.423e-01 1.342e+00 2.19 +++\n",
      "+++ -3.127e+01 -3.158e+01 8.423e-01 1.092e+00 0.635 +++\n",
      "+++ -3.127e+01 -3.193e+01 8.423e-01 1.217e+00 1.32 +++\n",
      "+++ -3.127e+01 -3.174e+01 8.423e-01 1.155e+00 0.955 +++\n",
      "+++ -3.127e+01 -3.183e+01 8.423e-01 1.186e+00 1.13 +++\n",
      "+++ -3.127e+01 -3.179e+01 8.423e-01 1.170e+00 1.04 +++\n",
      "+++ -3.127e+01 -3.177e+01 8.423e-01 1.163e+00 0.998 +++\n",
      "\t### errors for param 1 ###\n",
      "+++ -3.127e+01 -3.127e+01 -6.142e+00 -3.142e+00 0.00153 +++\n",
      "+++ -3.127e+01 -3.129e+01 -6.142e+00 -1.642e+00 0.0501 +++\n",
      "+++ -3.127e+01 -3.142e+01 -6.142e+00 -8.925e-01 0.304 +++\n",
      "+++ -3.127e+01 -3.163e+01 -6.142e+00 -5.175e-01 0.724 +++\n",
      "+++ -3.127e+01 -3.181e+01 -6.142e+00 -3.300e-01 1.08 +++\n",
      "+++ -3.127e+01 -3.171e+01 -6.142e+00 -4.237e-01 0.888 +++\n",
      "+++ -3.127e+01 -3.176e+01 -6.142e+00 -3.768e-01 0.981 +++\n",
      "+++ -3.127e+01 -3.178e+01 -6.142e+00 -3.534e-01 1.03 +++\n",
      "+++ -3.127e+01 -3.177e+01 -6.142e+00 -3.651e-01 1.01 +++\n",
      "\t### errors for param 2 ###\n",
      "+++ -3.127e+01 -3.174e+01 4.195e-01 6.564e-01 0.942 +++\n",
      "+++ -3.127e+01 -3.226e+01 4.195e-01 7.749e-01 1.98 +++\n",
      "+++ -3.127e+01 -3.198e+01 4.195e-01 7.157e-01 1.42 +++\n",
      "+++ -3.127e+01 -3.185e+01 4.195e-01 6.860e-01 1.17 +++\n",
      "+++ -3.127e+01 -3.179e+01 4.195e-01 6.712e-01 1.05 +++\n",
      "+++ -3.127e+01 -3.176e+01 4.195e-01 6.638e-01 0.997 +++\n",
      "\t### errors for param 3 ###\n",
      "+++ -3.127e+01 -3.171e+01 -4.240e-01 -2.082e-01 0.885 +++\n",
      "+++ -3.127e+01 -3.219e+01 -4.240e-01 -1.003e-01 1.85 +++\n",
      "+++ -3.127e+01 -3.193e+01 -4.240e-01 -1.542e-01 1.34 +++\n",
      "+++ -3.127e+01 -3.182e+01 -4.240e-01 -1.812e-01 1.1 +++\n",
      "+++ -3.127e+01 -3.176e+01 -4.240e-01 -1.947e-01 0.991 +++\n",
      "\t### errors for param 4 ###\n",
      "+++ -3.127e+01 -3.167e+01 -1.151e+00 -9.903e-01 0.815 +++\n",
      "+++ -3.127e+01 -3.214e+01 -1.151e+00 -9.099e-01 1.76 +++\n",
      "+++ -3.127e+01 -3.189e+01 -1.151e+00 -9.501e-01 1.25 +++\n",
      "+++ -3.127e+01 -3.178e+01 -1.151e+00 -9.702e-01 1.02 +++\n",
      "+++ -3.127e+01 -3.172e+01 -1.151e+00 -9.803e-01 0.915 +++\n",
      "+++ -3.127e+01 -3.175e+01 -1.151e+00 -9.752e-01 0.967 +++\n",
      "+++ -3.127e+01 -3.176e+01 -1.151e+00 -9.727e-01 0.993 +++\n",
      "\t### errors for param 5 ###\n",
      "+++ -3.127e+01 -3.173e+01 -1.846e+00 -1.719e+00 0.922 +++\n",
      "+++ -3.127e+01 -3.227e+01 -1.846e+00 -1.656e+00 2.01 +++\n",
      "+++ -3.127e+01 -3.198e+01 -1.846e+00 -1.688e+00 1.42 +++\n",
      "+++ -3.127e+01 -3.184e+01 -1.846e+00 -1.704e+00 1.16 +++\n",
      "+++ -3.127e+01 -3.178e+01 -1.846e+00 -1.712e+00 1.04 +++\n",
      "+++ -3.127e+01 -3.176e+01 -1.846e+00 -1.715e+00 0.979 +++\n",
      "+++ -3.127e+01 -3.177e+01 -1.846e+00 -1.714e+00 1.01 +++\n",
      "\t### errors for param 6 ###\n",
      "+++ -3.127e+01 -3.174e+01 -2.497e+00 -2.378e+00 0.951 +++\n",
      "+++ -3.127e+01 -3.234e+01 -2.497e+00 -2.318e+00 2.15 +++\n",
      "+++ -3.127e+01 -3.201e+01 -2.497e+00 -2.348e+00 1.49 +++\n",
      "+++ -3.127e+01 -3.187e+01 -2.497e+00 -2.363e+00 1.21 +++\n",
      "+++ -3.127e+01 -3.180e+01 -2.497e+00 -2.370e+00 1.07 +++\n",
      "+++ -3.127e+01 -3.177e+01 -2.497e+00 -2.374e+00 1.01 +++\n",
      "+++ -3.127e+01 -3.176e+01 -2.497e+00 -2.376e+00 0.981 +++\n",
      "+++ -3.127e+01 -3.176e+01 -2.497e+00 -2.375e+00 0.996 +++\n",
      "\t### errors for param 7 ###\n",
      "+++ -3.127e+01 -3.144e+01 -3.984e+00 -3.665e+00 0.349 +++\n",
      "+++ -3.127e+01 -3.179e+01 -3.984e+00 -3.506e+00 1.04 +++\n",
      "+++ -3.127e+01 -3.158e+01 -3.984e+00 -3.586e+00 0.628 +++\n",
      "+++ -3.127e+01 -3.167e+01 -3.984e+00 -3.546e+00 0.815 +++\n",
      "+++ -3.127e+01 -3.173e+01 -3.984e+00 -3.526e+00 0.922 +++\n",
      "+++ -3.127e+01 -3.176e+01 -3.984e+00 -3.516e+00 0.979 +++\n",
      "+++ -3.127e+01 -3.177e+01 -3.984e+00 -3.511e+00 1.01 +++\n",
      "********************\n",
      "0.842274 -6.14247 0.419455 -0.424028 -1.15125 -1.84619 -2.49699 -3.98379\n",
      "0.320312 2 0.244366 0.229323 0.17851 0.13268 0.12191 0.472956\n",
      "********************\n"
     ]
    }
   ],
   "source": [
    "p1, p1e = clag.errors(P1, p1, p1e)"
   ]
  },
  {
   "cell_type": "code",
   "execution_count": 54,
   "metadata": {
    "collapsed": false,
    "scrolled": false
   },
   "outputs": [
    {
     "name": "stdout",
     "output_type": "stream",
     "text": [
      "   1 4.342e-01 7.192e+01 inf -- -5.528e+02 -- 1 1 1 1 1 1 1 1\n",
      "   2 7.677e-01 7.172e+01 8.314e+01 -- -4.696e+02 -- 0.78293 0.568703 0.600684 0.57668 0.566873 0.566275 0.565811 0.56578\n",
      "   3 3.308e+00 7.142e+01 8.128e+01 -- -3.884e+02 -- 0.689764 0.16171 0.257918 0.170439 0.136255 0.133411 0.131785 0.131434\n",
      "   4 1.435e+00 7.097e+01 7.825e+01 -- -3.101e+02 -- 0.631013 -0.146679 0.0380676 -0.194555 -0.28697 -0.297374 -0.3018 -0.303285\n",
      "   5 1.893e+00 7.030e+01 7.448e+01 -- -2.356e+02 -- 0.572477 -0.273973 -0.013521 -0.46889 -0.691645 -0.723892 -0.734606 -0.738407\n",
      "   6 2.036e+00 6.915e+01 6.997e+01 -- -1.657e+02 -- 0.556114 -0.338327 0.0120697 -0.601529 -1.05194 -1.14054 -1.16577 -1.17376\n",
      "   7 7.527e-01 6.678e+01 6.326e+01 -- -1.024e+02 -- 0.559718 -0.419601 0.0366427 -0.638502 -1.31524 -1.52984 -1.59139 -1.60925\n",
      "   8 4.844e-01 6.180e+01 5.335e+01 -- -4.904e+01 -- 0.572287 -0.509058 0.064224 -0.659378 -1.43703 -1.85444 -2.00096 -2.04514\n",
      "   9 3.410e-01 5.187e+01 4.022e+01 -- -8.822e+00 -- 0.595257 -0.619867 0.0953316 -0.671813 -1.4612 -2.06343 -2.36925 -2.48204\n",
      "  10 2.192e-01 3.563e+01 2.547e+01 -- 1.665e+01 -- 0.6194 -0.747423 0.127837 -0.676742 -1.46093 -2.14774 -2.64722 -2.92087\n",
      "  11 1.460e-01 1.761e+01 1.288e+01 -- 2.953e+01 -- 0.640967 -0.881941 0.155865 -0.677588 -1.4582 -2.1718 -2.7869 -3.36245\n",
      "  12 1.295e-01 5.939e+00 5.090e+00 -- 3.462e+01 -- 0.657855 -1.01069 0.17757 -0.677517 -1.45555 -2.18016 -2.82483 -3.81195\n",
      "  13 1.623e-01 1.437e+00 1.604e+00 -- 3.622e+01 -- 0.669643 -1.12208 0.193467 -0.677828 -1.45291 -2.18297 -2.8373 -4.30544\n",
      "  14 4.049e-01 4.873e-01 4.482e-01 -- 3.667e+01 -- 0.67732 -1.2099 0.204462 -0.678033 -1.45096 -2.18433 -2.84371 -5.00417\n",
      "  15 2.540e+01 3.076e-01 8.927e-02 -- 3.676e+01 -- 0.681949 -1.27134 0.211498 -0.678034 -1.44992 -2.18515 -2.8466 -7.03017\n",
      "  16 2.082e+02 2.588e-01 1.381e-03 -- 3.676e+01 -- 0.684364 -1.30644 0.215416 -0.677913 -1.44966 -2.18562 -2.8474 -8\n",
      "  17 2.083e+02 2.569e-01 1.175e-04 -- 3.676e+01 -- 0.685474 -1.32284 0.217301 -0.677793 -1.4497 -2.18584 -2.84745 -8\n",
      "  18 2.083e+02 2.560e-01 3.017e-05 -- 3.676e+01 -- 0.685984 -1.33031 0.218161 -0.677729 -1.44974 -2.18594 -2.84748 -8\n",
      "********************\n",
      "0.685984 -1.33031 0.218161 -0.677729 -1.44974 -2.18594 -2.84748 -8\n",
      "0.316217 1.80046 0.250838 0.216028 0.161107 0.128312 0.124614 2962.83\n",
      "0.00071162 -0.00112067 0.00390858 -0.000780494 -0.007703 -0.0486697 -0.255952 -0.00019046\n",
      "********************\n",
      "\t### errors for param 0 ###\n",
      "+++ 3.676e+01 3.633e+01 6.862e-01 1.002e+00 0.873 +++\n",
      "+++ 3.676e+01 3.584e+01 6.862e-01 1.160e+00 1.84 +++\n",
      "+++ 3.676e+01 3.610e+01 6.862e-01 1.081e+00 1.32 +++\n",
      "+++ 3.676e+01 3.622e+01 6.862e-01 1.042e+00 1.09 +++\n",
      "+++ 3.676e+01 3.627e+01 6.862e-01 1.022e+00 0.978 +++\n",
      "+++ 3.676e+01 3.625e+01 6.862e-01 1.032e+00 1.03 +++\n",
      "+++ 3.676e+01 3.626e+01 6.862e-01 1.027e+00   1 +++\n",
      "\t### errors for param 1 ###\n",
      "+++ 3.676e+01 3.644e+01 -1.334e+00 -4.278e-01 0.649 +++\n",
      "+++ 3.676e+01 3.574e+01 -1.334e+00 2.512e-02 2.04 +++\n",
      "+++ 3.676e+01 3.615e+01 -1.334e+00 -2.013e-01 1.23 +++\n",
      "+++ 3.676e+01 3.631e+01 -1.334e+00 -3.146e-01 0.912 +++\n",
      "+++ 3.676e+01 3.623e+01 -1.334e+00 -2.580e-01 1.06 +++\n",
      "+++ 3.676e+01 3.627e+01 -1.334e+00 -2.863e-01 0.987 +++\n",
      "+++ 3.676e+01 3.625e+01 -1.334e+00 -2.721e-01 1.03 +++\n",
      "+++ 3.676e+01 3.626e+01 -1.334e+00 -2.792e-01 1.01 +++\n",
      "\t### errors for param 2 ###\n",
      "+++ 3.676e+01 3.635e+01 2.185e-01 4.694e-01 0.82 +++\n",
      "+++ 3.676e+01 3.583e+01 2.185e-01 5.948e-01 1.87 +++\n",
      "+++ 3.676e+01 3.611e+01 2.185e-01 5.321e-01 1.3 +++\n",
      "+++ 3.676e+01 3.624e+01 2.185e-01 5.007e-01 1.05 +++\n",
      "+++ 3.676e+01 3.630e+01 2.185e-01 4.850e-01 0.931 +++\n",
      "+++ 3.676e+01 3.627e+01 2.185e-01 4.929e-01 0.989 +++\n",
      "+++ 3.676e+01 3.625e+01 2.185e-01 4.968e-01 1.02 +++\n",
      "+++ 3.676e+01 3.626e+01 2.185e-01 4.948e-01   1 +++\n",
      "\t### errors for param 3 ###\n",
      "+++ 3.676e+01 3.632e+01 -6.777e-01 -4.617e-01 0.892 +++\n",
      "+++ 3.676e+01 3.582e+01 -6.777e-01 -3.537e-01 1.88 +++\n",
      "+++ 3.676e+01 3.609e+01 -6.777e-01 -4.077e-01 1.35 +++\n",
      "+++ 3.676e+01 3.621e+01 -6.777e-01 -4.347e-01 1.11 +++\n",
      "+++ 3.676e+01 3.626e+01 -6.777e-01 -4.482e-01 0.998 +++\n",
      "\t### errors for param 4 ###\n",
      "+++ 3.676e+01 3.635e+01 -1.450e+00 -1.289e+00 0.833 +++\n",
      "+++ 3.676e+01 3.586e+01 -1.450e+00 -1.208e+00 1.8 +++\n",
      "+++ 3.676e+01 3.613e+01 -1.450e+00 -1.248e+00 1.27 +++\n",
      "+++ 3.676e+01 3.624e+01 -1.450e+00 -1.269e+00 1.04 +++\n",
      "+++ 3.676e+01 3.629e+01 -1.450e+00 -1.279e+00 0.936 +++\n",
      "+++ 3.676e+01 3.627e+01 -1.450e+00 -1.274e+00 0.989 +++\n",
      "+++ 3.676e+01 3.625e+01 -1.450e+00 -1.271e+00 1.02 +++\n",
      "+++ 3.676e+01 3.626e+01 -1.450e+00 -1.272e+00   1 +++\n",
      "\t### errors for param 5 ###\n",
      "+++ 3.676e+01 3.629e+01 -2.186e+00 -2.058e+00 0.943 +++\n",
      "+++ 3.676e+01 3.574e+01 -2.186e+00 -1.994e+00 2.05 +++\n",
      "+++ 3.676e+01 3.604e+01 -2.186e+00 -2.026e+00 1.45 +++\n",
      "+++ 3.676e+01 3.617e+01 -2.186e+00 -2.042e+00 1.18 +++\n",
      "+++ 3.676e+01 3.623e+01 -2.186e+00 -2.050e+00 1.06 +++\n",
      "+++ 3.676e+01 3.626e+01 -2.186e+00 -2.054e+00   1 +++\n",
      "\t### errors for param 6 ###\n",
      "+++ 3.676e+01 3.662e+01 -2.847e+00 -2.785e+00 0.287 +++\n",
      "+++ 3.676e+01 3.645e+01 -2.847e+00 -2.754e+00 0.624 +++\n",
      "+++ 3.676e+01 3.634e+01 -2.847e+00 -2.738e+00 0.842 +++\n",
      "+++ 3.676e+01 3.628e+01 -2.847e+00 -2.731e+00 0.963 +++\n",
      "+++ 3.676e+01 3.625e+01 -2.847e+00 -2.727e+00 1.03 +++\n",
      "+++ 3.676e+01 3.627e+01 -2.847e+00 -2.729e+00 0.995 +++\n",
      "\t### errors for param 7 ###\n",
      "+++ 3.676e+01 3.675e+01 -8.000e+00 -6.000e+00 0.0165 +++\n",
      "+++ 3.676e+01 3.667e+01 -8.000e+00 -5.000e+00 0.176 +++\n",
      "+++ 3.676e+01 3.645e+01 -8.000e+00 -4.500e+00 0.625 +++\n",
      "+++ 3.676e+01 3.615e+01 -8.000e+00 -4.250e+00 1.23 +++\n",
      "+++ 3.676e+01 3.633e+01 -8.000e+00 -4.375e+00 0.873 +++\n",
      "+++ 3.676e+01 3.625e+01 -8.000e+00 -4.312e+00 1.03 +++\n",
      "+++ 3.676e+01 3.629e+01 -8.000e+00 -4.344e+00 0.95 +++\n",
      "+++ 3.676e+01 3.627e+01 -8.000e+00 -4.328e+00 0.991 +++\n",
      "********************\n",
      "0.686214 -1.33366 0.218548 -0.677699 -1.44975 -2.18598 -2.84749 -8\n",
      "0.340888 1.05447 0.276275 0.229531 0.177469 0.132323 0.118774 3.67188\n",
      "********************\n"
     ]
    }
   ],
   "source": [
    "lc2_time, lc2_strength, lc2_strength_err = np.loadtxt('lightcurves/1367Å.lc',skiprows=1).T\n",
    "P2  = clag.clag('psd10r', [lc2_time], [lc2_strength], [lc2_strength_err], dt, fqL)\n",
    "echo_psd = np.ones(nfq)\n",
    "echo_psd, echo_psd_err = clag.optimize(P2, echo_psd)\n",
    "echo_psd, echo_psd_err = clag.errors(P2, echo_psd, echo_psd_err)"
   ]
  },
  {
   "cell_type": "code",
   "execution_count": null,
   "metadata": {
    "collapsed": false,
    "scrolled": false
   },
   "outputs": [
    {
     "name": "stdout",
     "output_type": "stream",
     "text": [
      "   1 5.461e+03 3.129e+01 inf -- 4.856e+01 -- 0.464251 -4.03807 0.0189921 -0.850855 -1.60053 -2.31608 -2.97227 -6.29099 0.1 0.1 0.1 0.1 0.1 0.1 0.1 0.1\n",
      "   3 3.519e+02 3.652e+01 5.611e+00 -- 5.417e+01 -- 0.508103 -3.73807 0.0630969 -0.807781 -1.55655 -2.26976 -2.91554 -5.99099 0.0831503 -0.12046 0.0924967 0.0835327 0.0864669 0.0914705 0.12176 -1.83901\n",
      "   5 7.675e+03 4.162e+01 5.370e+00 -- 5.954e+01 -- 0.543533 -3.43807 0.0986035 -0.77279 -1.52096 -2.23246 -2.87084 -6.29099 0.071137 1.92324 0.0869798 0.071687 0.0766693 0.0855272 0.137156 -0.0818335\n",
      "   7 2.888e+03 4.712e+01 5.063e+00 -- 6.460e+01 -- 0.572736 -3.73807 0.127803 -0.743828 -1.49161 -2.20179 -2.83464 -5.99099 0.0621946 -1.91332 0.0827026 0.0628067 0.0692656 0.0811878 0.148771 -0.109333\n",
      "   9 2.716e+03 5.373e+01 4.853e+00 -- 6.945e+01 -- 0.597166 -3.43807 0.152192 -0.719514 -1.46702 -2.17614 -2.80474 -5.69099 0.0553467 -2.61833 0.0793112 0.055933 0.0634971 0.0779338 0.157976 0.0487899\n",
      "  11 2.390e+01 6.074e+01 4.663e+00 -- 7.412e+01 -- 0.617844 -3.73807 0.172811 -0.698877 -1.44619 -2.15445 -2.7797 -5.39099 0.0499825 2.32566 0.0765308 0.0504923 0.058895 0.0754415 0.165534 0.736002\n",
      "  13 2.756e+01 6.813e+01 4.555e+00 -- 7.867e+01 -- 0.635507 -4.03807 0.190408 -0.681205 -1.42839 -2.13591 -2.7585 -5.09099 0.0456996 3.05096 0.0741939 0.0461091 0.0551581 0.0734822 0.171881 0.86064\n",
      "  15 1.279e+02 7.593e+01 4.827e+00 -- 8.350e+01 -- 0.650708 -4.33807 0.205541 -0.665966 -1.41305 -2.11997 -2.74039 -4.79099 0.0422388 -2.76496 0.0722133 0.0425204 0.0520806 0.0719173 0.177316 0.248707\n",
      "  17 9.266e+02 8.389e+01 3.628e+00 -- 8.713e+01 -- 0.663869 -4.63807 0.218637 -0.652748 -1.39977 -2.10615 -2.72486 -4.49099 0.0394336 1.18193 0.0705366 0.0395552 0.0495133 0.0707148 0.182123 1.40017\n",
      "  19 3.463e+02 9.234e+01 6.721e+00 -- 9.385e+01 -- 0.675324 -4.33807 0.23003 -0.641229 -1.3882 -2.09415 -2.71143 -4.19099 0.0370547 -1.52361 0.0690163 0.0370498 0.0473662 0.0695129 0.186093 0.622851\n",
      "  21 2.839e+02 1.008e+02 5.810e+00 -- 9.966e+01 -- 0.685332 -4.03807 0.239981 -0.631147 -1.37809 -2.08368 -2.69991 -3.96172 0.0350875 0.970823 0.0677527 0.0349428 0.0455284 0.0685879 0.189676 0.677427\n",
      "  23 9.156e+01 1.095e+02 5.154e+00 -- 1.048e+02 -- 0.694111 -3.73807 0.248707 -0.622294 -1.36922 -2.07453 -2.69 -3.84325 0.0333832 -1.46235 0.0666398 0.0331411 0.0439538 0.0676933 0.192729 0.687646\n",
      "  25 3.815e+01 1.182e+02 4.748e+00 -- 1.096e+02 -- 0.701835 -3.43807 0.256384 -0.614497 -1.36141 -2.0665 -2.68143 -3.76394 0.0319175 -0.639457 0.0656716 0.0315972 0.0426 0.0668777 0.195454 0.691629\n",
      "  27 1.796e+01 1.269e+02 4.396e+00 -- 1.140e+02 -- 0.70865 -3.13807 0.263157 -0.607612 -1.35451 -2.05943 -2.67403 -3.70595 0.0306542 1.80024 0.0648267 0.0302739 0.0414337 0.0661488 0.197966 0.693545\n",
      "  29 4.761e+01 1.356e+02 4.113e+00 -- 1.181e+02 -- 0.714677 -3.43807 0.269146 -0.601518 -1.34842 -2.05319 -2.66763 -3.66158 0.0295626 -1.43309 0.0640659 0.0291428 0.0404247 0.0655036 0.200341 0.694604\n",
      "  31 2.374e+01 1.442e+02 3.847e+00 -- 1.219e+02 -- 0.720017 -3.13807 0.274453 -0.596115 -1.34301 -2.04767 -2.6621 -3.62674 0.0286237 -0.893239 0.0634255 0.0281674 0.0395555 0.064938 0.202629 0.695277\n",
      "  33 1.551e+01 1.541e+02 3.588e+00 -- 1.255e+02 -- 0.724757 -2.83807 0.279164 -0.591316 -1.33822 -2.04278 -2.65732 -3.59894 0.0278104 1.22745 0.0628734 0.0273316 0.038807 0.0644433 0.20487 0.695772\n",
      "  35 1.027e+01 1.693e+02 3.373e+00 -- 1.289e+02 -- 0.728971 -2.83522 0.283351 -0.587047 -1.33396 -2.03843 -2.65322 -3.57656 0.0270966 -0.675825 0.0623587 0.0266252 0.0381609 0.0640084 0.207095 0.696174\n",
      "  37 1.656e+02 1.854e+02 3.190e+00 -- 1.321e+02 -- 0.732721 -2.53522 0.28708 -0.583245 -1.33016 -2.03457 -2.6497 -3.55845 0.0264826 0.0184546 0.0619572 0.0260159 0.0376119 0.0636282 0.20931 0.696491\n",
      "  39 7.608e-01 2.024e+02 3.024e+00 -- 1.351e+02 -- 0.736062 -2.23522 0.290402 -0.579855 -1.32678 -2.03113 -2.64668 -3.5438 0.0259343 -0.287244 0.0616004 0.0255059 0.0371467 0.06329 0.21153 0.696708\n",
      "  41 4.959e-01 2.201e+02 2.849e+00 -- 1.379e+02 -- 0.739039 -2.06518 0.293366 -0.57683 -1.32377 -2.02806 -2.64411 -3.53196 0.0254483 -0.304188 0.0613308 0.0250756 0.0367616 0.0629874 0.21375 0.696774\n",
      "  43 3.704e-01 2.385e+02 2.672e+00 -- 1.406e+02 -- 0.741695 -1.96276 0.296014 -0.574127 -1.32109 -2.02533 -2.64192 -3.52245 0.0250115 -0.314429 0.0611244 0.0247193 0.036448 0.0627106 0.215964 0.696633\n",
      "  45 2.933e-01 2.575e+02 2.511e+00 -- 1.431e+02 -- 0.744067 -1.89006 0.298379 -0.571711 -1.31869 -2.02289 -2.64005 -3.51489 0.0246185 -0.322755 0.0609703 0.0244291 0.0361988 0.062451 0.21816 0.696228\n",
      "  47 2.401e-01 2.767e+02 2.362e+00 -- 1.455e+02 -- 0.746185 -1.83463 0.300496 -0.56955 -1.31656 -2.02072 -2.63845 -3.50895 0.0242652 -0.330158 0.0608605 0.0241985 0.0360085 0.0622004 0.220321 0.695512\n",
      "  49 2.008e-01 2.960e+02 2.223e+00 -- 1.477e+02 -- 0.748079 -1.79059 0.30239 -0.567615 -1.31465 -2.01879 -2.63707 -3.50439 0.0239483 -0.337002 0.0607887 0.0240219 0.0358727 0.0619512 0.222426 0.694451\n",
      "  51 1.793e-01 3.151e+02 2.092e+00 -- 1.498e+02 -- 0.749772 -1.75463 0.304086 -0.565882 -1.31295 -2.01707 -2.63589 -3.50099 0.0236654 -0.343456 0.0607494 0.0238947 0.0357878 0.0616963 0.224453 0.693024\n",
      "  53 1.693e-01 3.335e+02 1.969e+00 -- 1.518e+02 -- 0.751287 -1.72471 0.305606 -0.56433 -1.31143 -2.01554 -2.63484 -3.49859 0.0234149 -0.349615 0.0607383 0.0238128 0.0357504 0.0614289 0.226382 0.691216\n",
      "  55 1.608e-01 3.511e+02 1.853e+00 -- 1.536e+02 -- 0.752642 -1.69945 0.306968 -0.562939 -1.31008 -2.01418 -2.63392 -3.49705 0.0231954 -0.355533 0.0607513 0.023773 0.0357571 0.0611431 0.228196 0.689012\n",
      "  57 1.535e-01 3.673e+02 1.744e+00 -- 1.554e+02 -- 0.753855 -1.67788 0.308189 -0.561692 -1.30888 -2.01298 -2.63308 -3.49627 0.0230056 -0.36125 0.0607851 0.0237726 0.0358041 0.0608338 0.229883 0.686395\n",
      "  59 1.470e-01 3.818e+02 1.643e+00 -- 1.570e+02 -- 0.75494 -1.65931 0.309285 -0.560574 -1.30781 -2.01192 -2.63232 -3.49614 0.0228444 -0.366794 0.0608367 0.0238091 0.0358865 0.0604971 0.231437 0.683342\n",
      "  61 1.413e-01 3.945e+02 1.551e+00 -- 1.586e+02 -- 0.755912 -1.64321 0.310268 -0.559571 -1.30686 -2.01098 -2.63162 -3.49659 0.0227103 -0.372186 0.0609035 0.0238805 0.0359981 0.0601306 0.232862 0.679829\n",
      "  63 1.363e-01 4.203e+02 1.468e+00 -- 1.600e+02 -- 0.756781 -1.62915 0.31115 -0.558671 -1.30601 -2.01014 -2.63097 -3.49754 0.022602 -0.377446 0.060983 0.0239848 0.0361322 0.0597337 0.234165 0.675842\n",
      "  65 1.319e-01 4.548e+02 1.393e+00 -- 1.614e+02 -- 0.757559 -1.61683 0.311943 -0.557864 -1.30526 -2.0094 -2.63037 -3.49892 0.0225184 -0.38259 0.0610735 0.02412 0.0362809 0.0593075 0.235361 0.671384\n",
      "  67 1.280e-01 4.909e+02 1.325e+00 -- 1.627e+02 -- 0.758255 -1.60598 0.312654 -0.557139 -1.30459 -2.00873 -2.62981 -3.50067 0.0224586 -0.387636 0.0611731 0.0242843 0.0364368 0.0588544 0.236466 0.666477\n",
      "  69 1.247e-01 5.284e+02 1.263e+00 -- 1.640e+02 -- 0.758878 -1.59638 0.313292 -0.556488 -1.30399 -2.00813 -2.62931 -3.50272 0.0224223 -0.3926 0.0612807 0.0244754 0.0365928 0.058378 0.237495 0.661169\n",
      "  71 1.218e-01 5.670e+02 1.206e+00 -- 1.652e+02 -- 0.759434 -1.58786 0.313865 -0.555903 -1.30346 -2.00759 -2.62886 -3.50501 0.0224096 -0.397495 0.0613952 0.0246912 0.0367427 0.0578826 0.238463 0.655528\n",
      "  73 1.194e-01 6.090e+02 1.152e+00 -- 1.664e+02 -- 0.759932 -1.58027 0.31438 -0.555378 -1.30298 -2.00709 -2.62845 -3.50747 0.0224207 -0.402338 0.0615159 0.0249293 0.0368815 0.0573725 0.23938 0.649633\n",
      "  75 1.174e-01 6.668e+02 1.101e+00 -- 1.675e+02 -- 0.760377 -1.5735 0.314842 -0.554906 -1.30256 -2.00664 -2.62809 -3.51005 0.0224562 -0.407143 0.0616423 0.0251875 0.0370056 0.0568518 0.240253 0.643571\n",
      "  77 1.156e-01 7.289e+02 1.051e+00 -- 1.685e+02 -- 0.760775 -1.56743 0.315257 -0.554481 -1.30219 -2.00621 -2.62778 -3.5127 0.0225169 -0.411921 0.061774 0.0254632 0.0371123 0.0563243 0.241086 0.637427\n",
      "  79 1.180e-01 7.953e+02 1.004e+00 -- 1.695e+02 -- 0.76113 -1.56198 0.31563 -0.5541 -1.30185 -2.00582 -2.62751 -3.51537 0.0226031 -0.416685 0.061911 0.0257542 0.0372 0.0557932 0.241879 0.631283\n",
      "  81 1.207e-01 8.660e+02 9.574e-01 -- 1.705e+02 -- 0.761447 -1.55707 0.315965 -0.553758 -1.30156 -2.00546 -2.62728 -3.51804 0.0227152 -0.421443 0.062053 0.026058 0.0372678 0.0552614 0.242632 0.625207\n",
      "  83 1.224e-01 9.410e+02 9.123e-01 -- 1.714e+02 -- 0.76173 -1.55264 0.316265 -0.55345 -1.30129 -2.00511 -2.62709 -3.52068 0.0228534 -0.426204 0.0622001 0.0263725 0.0373153 0.0547311 0.243343 0.619259\n",
      "  85 1.232e-01 1.020e+03 8.683e-01 -- 1.723e+02 -- 0.761983 -1.54862 0.316535 -0.553173 -1.30105 -2.00479 -2.62693 -3.52326 0.0230174 -0.43097 0.0623524 0.0266953 0.0373427 0.0542041 0.244008 0.613486\n",
      "  87 1.232e-01 1.103e+03 8.252e-01 -- 1.731e+02 -- 0.762208 -1.54497 0.316777 -0.552924 -1.30084 -2.00448 -2.6268 -3.52577 0.0232069 -0.435744 0.0625099 0.0270242 0.0373503 0.0536818 0.244623 0.607925\n",
      "  89 1.224e-01 1.190e+03 7.832e-01 -- 1.739e+02 -- 0.762409 -1.54164 0.316994 -0.552701 -1.30066 -2.00419 -2.62671 -3.5282 0.023421 -0.440524 0.0626728 0.0273571 0.037339 0.0531655 0.245185 0.602602\n",
      "  91 1.210e-01 1.281e+03 7.420e-01 -- 1.746e+02 -- 0.762589 -1.53861 0.31719 -0.5525 -1.30049 -2.00392 -2.62663 -3.53054 0.0236586 -0.445306 0.0628412 0.027692 0.0373095 0.0526558 0.24569 0.597534\n",
      "  93 1.189e-01 1.374e+03 7.017e-01 -- 1.753e+02 -- 0.762748 -1.53583 0.317365 -0.552319 -1.30035 -2.00365 -2.62658 -3.53278 0.0239185 -0.450081 0.0630152 0.028027 0.0372629 0.0521534 0.246137 0.592731\n",
      "  95 1.236e-01 1.469e+03 6.624e-01 -- 1.760e+02 -- 0.76289 -1.53329 0.317522 -0.552157 -1.30022 -2.0034 -2.62655 -3.53493 0.0241989 -0.454842 0.0631949 0.0283602 0.0372004 0.0516588 0.246522 0.588196\n",
      "  97 1.290e-01 1.566e+03 6.240e-01 -- 1.766e+02 -- 0.763017 -1.53095 0.317662 -0.552011 -1.3001 -2.00317 -2.62654 -3.53698 0.0244981 -0.459579 0.0633805 0.0286899 0.0371232 0.0511722 0.246843 0.583927\n",
      "  99 1.332e-01 1.664e+03 5.866e-01 -- 1.772e+02 -- 0.76313 -1.5288 0.317789 -0.551879 -1.3 -2.00294 -2.62655 -3.53894 0.024814 -0.46428 0.063572 0.0290146 0.0370326 0.0506937 0.2471 0.57992\n",
      " 101 1.363e-01 1.761e+03 5.501e-01 -- 1.777e+02 -- 0.76323 -1.52681 0.317902 -0.551761 -1.29991 -2.00272 -2.62657 -3.5408 0.0251444 -0.468937 0.0637694 0.0293327 0.0369299 0.0502234 0.247292 0.576164\n",
      " 103 1.383e-01 1.858e+03 5.148e-01 -- 1.783e+02 -- 0.76332 -1.52498 0.318003 -0.551655 -1.29983 -2.00251 -2.6266 -3.54256 0.0254871 -0.473541 0.0639727 0.029643 0.0368166 0.0497613 0.247419 0.572649"
     ]
    }
   ],
   "source": [
    "Cx = clag.clag('cxd10r',\n",
    "\t\t\t\t[[t1,lc2_time]], \n",
    "            \t[[l1,lc2_strength]],\n",
    "            \t[[l1e,lc2_strength_err]], \n",
    "               dt, fqL, p1, echo_psd)\n",
    "Cx_vals = np.concatenate( ((p1+echo_psd)*0.5-0.3,p1*0+0.1) )\n",
    "Cx_vals, Cx_err = clag.optimize(Cx, Cx_vals)\n",
    "Cx_vals, Cx_err = clag.errors(Cx,Cx_vals,Cx_err)"
   ]
  }
 ],
 "metadata": {
  "kernelspec": {
   "display_name": "Python 2",
   "language": "python",
   "name": "python2"
  },
  "language_info": {
   "codemirror_mode": {
    "name": "ipython",
    "version": 2
   },
   "file_extension": ".py",
   "mimetype": "text/x-python",
   "name": "python",
   "nbconvert_exporter": "python",
   "pygments_lexer": "ipython2",
   "version": "2.7.6"
  }
 },
 "nbformat": 4,
 "nbformat_minor": 1
}
